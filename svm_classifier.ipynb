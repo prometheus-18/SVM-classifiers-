{
  "nbformat": 4,
  "nbformat_minor": 0,
  "metadata": {
    "colab": {
      "provenance": []
    },
    "kernelspec": {
      "name": "python3",
      "display_name": "Python 3"
    },
    "language_info": {
      "name": "python"
    }
  },
  "cells": [
    {
      "cell_type": "code",
      "metadata": {
        "id": "RPYGr2-P1mAn"
      },
      "source": [
        "import numpy as np\n",
        "import matplotlib.pyplot as plt\n",
        "from sklearn import datasets"
      ],
      "execution_count": null,
      "outputs": []
    },
    {
      "cell_type": "code",
      "metadata": {
        "colab": {
          "base_uri": "https://localhost:8080/"
        },
        "id": "YAjSo-Ia2bcX",
        "outputId": "135b366b-e98a-4929-a4a3-657ceefb6e6b"
      },
      "source": [
        "x,y=datasets.make_blobs(n_samples=100,n_features=3,centers=3,cluster_std=1.05,random_state=40)\n",
        "y=np.where(y==0,-1,1)\n",
        "y"
      ],
      "execution_count": null,
      "outputs": [
        {
          "output_type": "execute_result",
          "data": {
            "text/plain": [
              "array([ 1,  1,  1,  1,  1,  1,  1,  1,  1,  1,  1, -1, -1, -1,  1,  1,  1,\n",
              "       -1, -1,  1,  1, -1,  1,  1, -1,  1,  1,  1,  1,  1,  1,  1,  1,  1,\n",
              "       -1,  1, -1, -1,  1,  1, -1,  1, -1, -1,  1, -1, -1, -1,  1, -1,  1,\n",
              "       -1, -1,  1,  1,  1,  1, -1, -1, -1, -1, -1,  1,  1, -1,  1,  1,  1,\n",
              "        1,  1,  1,  1, -1,  1, -1,  1, -1, -1,  1,  1,  1, -1,  1,  1,  1,\n",
              "       -1, -1,  1,  1,  1, -1,  1,  1,  1,  1,  1,  1, -1,  1,  1])"
            ]
          },
          "metadata": {},
          "execution_count": 4
        }
      ]
    },
    {
      "cell_type": "code",
      "metadata": {
        "colab": {
          "base_uri": "https://localhost:8080/"
        },
        "id": "80rwxYFQ3JSd",
        "outputId": "9b23483a-f48c-490c-f3e0-fb1cfe75b2df"
      },
      "source": [
        "x.shape\n"
      ],
      "execution_count": null,
      "outputs": [
        {
          "output_type": "execute_result",
          "data": {
            "text/plain": [
              "(100, 3)"
            ]
          },
          "metadata": {},
          "execution_count": 5
        }
      ]
    },
    {
      "cell_type": "code",
      "metadata": {
        "id": "_apdLdC63TpV"
      },
      "source": [
        "class SVM:\n",
        "  def __init__(self,learning_rate=0.001,lambda_param=0.01,iters=10000):\n",
        "    self.lr=learning_rate\n",
        "    self.lambda_param=lambda_param\n",
        "    self.iters=iters\n",
        "    self.w=None\n",
        "    self.b=None\n",
        "\n",
        "  def fit(self,x,y):\n",
        "    y_=np.where(y<=0,-1,1)\n",
        "    n_samples,n_features=x.shape\n",
        "    self.w=np.zeros(n_features)\n",
        "    self.b=0\n",
        "    for i in range(self.iters):\n",
        "      for idx, x_i in enumerate(x):\n",
        "        condition=y_[idx]*(np.dot(x_i,self.w)-self.b)>=1\n",
        "        if condition:\n",
        "          self.w-=self.lr*(2*self.lambda_param*self.w)\n",
        "        else:\n",
        "          self.w-=self.lr*(2*self.lambda_param*self.w-np.dot(x_i,y_[idx]))\n",
        "          self.b-=self.lr*y_[idx]\n",
        "  \n",
        "  def predict(self,x):\n",
        "    linear_out=np.dot(x,self.w)-self.b\n",
        "    return np.sign(linear_out)"
      ],
      "execution_count": null,
      "outputs": []
    },
    {
      "cell_type": "code",
      "metadata": {
        "id": "EPX-0veG6UGT"
      },
      "source": [
        "clf= SVM()\n",
        "clf.fit(x,y)"
      ],
      "execution_count": null,
      "outputs": []
    },
    {
      "cell_type": "code",
      "metadata": {
        "colab": {
          "base_uri": "https://localhost:8080/"
        },
        "id": "MtmzbW0H7ZSY",
        "outputId": "dfc4f3a2-583d-4b97-da47-15c977353462"
      },
      "source": [
        "print(clf.w,clf.b)"
      ],
      "execution_count": null,
      "outputs": [
        {
          "output_type": "stream",
          "text": [
            "[ 0.02727251  0.29311913 -0.13913131] -1.5749999999999373\n"
          ],
          "name": "stdout"
        }
      ]
    },
    {
      "cell_type": "code",
      "metadata": {
        "id": "T7kethhTFrZD"
      },
      "source": [],
      "execution_count": null,
      "outputs": []
    }
  ]
}